{
  "nbformat": 4,
  "nbformat_minor": 0,
  "metadata": {
    "colab": {
      "provenance": []
    },
    "kernelspec": {
      "name": "python3",
      "display_name": "Python 3"
    },
    "language_info": {
      "name": "python"
    }
  },
  "cells": [
    {
      "cell_type": "markdown",
      "source": [
        "#PYTHON OOPs QUESTIONS\n",
        "\n",
        "1. What is Object-Oriented Programming (OOP)?\n",
        "\n",
        "  - OOP is a programming paradigm based on the concept of \"objects\", which are instances of classes. It organizes software design around data (objects) and the functions (methods) that operate on the data. It promotes reusability, scalability, and modularity.\n",
        "\n",
        "2. What is a class in OOP?\n",
        "  \n",
        "  - A Class is a blueprint or template for creating object.\n",
        "\n",
        "3. What is an object in OOP?\n",
        "  \n",
        "  - An object is an instance of a class. It represents a specific implementation of the class with actual values and behaviors.\n",
        "\n",
        "4. What is the difference between abstraction and encapsulation?\n",
        "\n",
        "  - Abstraction hides complex implementation details and shows only the essential features.\n",
        "  - Encapsulation bundles data and methods that operate on the data within a single unit (class) and restricts access using access modifiers.\n",
        "\n",
        "5. What are dunder methods in Python?\n",
        "  \n",
        "  - Dunder (double underscore) methods are special methods which enable customization of built-in behavior, such as object creation, string representation, and operator overloading.\n",
        "\n",
        "6. Explain the concept of inheritance in OOP?\n",
        "  \n",
        "  - Inheritance allows a class to inherit properties and methods from another class. It promotes code reuse and hierarchical classification.\n",
        "\n",
        "7. What is polymorphism in OOP?\n",
        "  \n",
        "  - Polymorphism allows different classes to be treated as instances of the same class through a common interface. It lets one interface perform different behaviors based on the object's class.\n",
        "\n",
        "8. How is encapsulation achieved in Python?\n",
        "  \n",
        "  - Encapsulation is achieved using private (__var), protected (_var), and public variables/methods. It controls access to the data and ensures data integrity.\n",
        "\n",
        "9. What is a constructor in Python?\n",
        "\n",
        "  - A constructor is a special method __init__() that is automatically called when a class is instantiated. It initializes the object's attributes.\n",
        "\n",
        "10. What are class and static methods in Python?\n",
        "  \n",
        "  - Class method receives the class as the first argument and can modify class state.\n",
        "  - Static method doesn't access class or instance data and is used for utility functions.\n",
        "\n",
        "11. What is method overloading in Python?\n",
        "  \n",
        "  - Python doesn't support true overloading but simulates it using default or variable arguments.\n",
        "\n",
        "12. What is method overriding in OOP?\n",
        "  \n",
        "  - Redefining a method in a subclass that already exists in the parent class.\n",
        "\n",
        "13. What is a property decorator in Python?\n",
        "\n",
        "  - Property Decorator allows methods to be accessed like attributes, enabling controlled access to data.\n",
        "\n",
        "14. Why is polymorphism important in OOP?\n",
        "  \n",
        "  - Polymorphism improves flexibility and maintainability by allowing different classes to be used interchangeably through a shared interface. It supports code reuse and dynamic behavior.\n",
        "\n",
        "15. What is an abstract class in Python?\n",
        "  \n",
        "  - An abstract class cannot be instantiated and typically contains one or more abstract methods (declared but not implemented). It serves as a blueprint for subclasses.\n",
        "\n",
        "16. What are the advantages of OOP?\n",
        "  \n",
        "  - Advantages Of OOPs are :\n",
        "   * Modularity: Classes group related functions and data.\n",
        "   * Reusability: Inheritance enables code reuse.\n",
        "   * Scalability: Easy to modify and extend code.\n",
        "   * Encapsulation: Controls access to data.\n",
        "   * Polymorphism: Enables flexible code behavior.\n",
        "\n",
        "17. What is the difference between a class variable and an instance variable?\n",
        "\n",
        "  - Class variable: Shared across all instances; defined at the class level.\n",
        "  - Instance variable: Unique to each instance; defined inside methods using self.\n",
        "\n",
        "18. What is multiple inheritance in Python?\n",
        "  \n",
        "  - Multiple inheritance allows a class to inherit from more than one base class. Python uses the Method Resolution Order (MRO) to resolve method conflicts.\n",
        "\n",
        "19. Explain the purpose of '__str__' and '__repr__' methods in Python.\n",
        "  \n",
        "  - __str__ : Returns a user-friendly string representation of an object (used by print()).\n",
        "  - __repr__ : Returns a developer-friendly string representation, usually used in debugging.\n",
        "\n",
        "20. What is the significance of the 'super()' function in Python?\n",
        "\n",
        "  - 'super()' function allows access to methods from a parent class without explicitly naming it. It is  Useful in method overriding and multiple inheritance.\n",
        "\n",
        "21. What is the significance of the __del__ method in Python?\n",
        "\n",
        "  - __del__ is a destructor method that is called when an object is about to be destroyed. It is Used for cleanup actions like closing files.\n",
        "\n",
        "22. What is the difference between @staticmethod and @classmethod in Python?\n",
        "\n",
        "  - @staticmethod: It has No access to class or instance, it is used for utility functions.\n",
        "  - @classmethod: It Receives the class (cls) as the first parameter, it can modify class state.\n",
        "\n",
        "23. How does polymorphism work in Python with inheritance?\n",
        "\n",
        "  - In Python, a subclass can override a method from its parent class. When called through a parent class reference, the overridden method in the subclass is invoked, demonstrating polymorphism.\n",
        "\n",
        "24. What is method chaining in Python OOP?\n",
        "\n",
        "  - Method chaining is a technique where multiple methods are called on the same object in a single line by returning self from each method.\n",
        "\n",
        "25. What is the purpose of the __call__ method in Python?\n",
        "\n",
        "  - The __call__ method allows an instance of a class to be called like a function. It enables objects to behave like functions.\n"
      ],
      "metadata": {
        "id": "8rYcD3ZaFVNi"
      }
    },
    {
      "cell_type": "code",
      "execution_count": 2,
      "metadata": {
        "colab": {
          "base_uri": "https://localhost:8080/"
        },
        "id": "YJC7kd3CFFap",
        "outputId": "329b2967-9954-44b9-d229-66834aa4b464"
      },
      "outputs": [
        {
          "output_type": "stream",
          "name": "stdout",
          "text": [
            "Bark\n"
          ]
        }
      ],
      "source": [
        "# PRACTICAL QUESTIONS\n",
        "\n",
        "#1.  Create a parent class Animal with a method speak() that prints a generic message. Create a child class Dog\n",
        "#    that overrides the speak() method to print \"Bark!\".\n",
        "\n",
        "class animal:\n",
        "  def speak(self):\n",
        "    print('Animal speaks')\n",
        "\n",
        "class dog(animal):\n",
        "  def speak(self):\n",
        "    print('Bark')\n",
        "\n",
        "d = dog()\n",
        "d.speak()\n",
        "\n"
      ]
    },
    {
      "cell_type": "code",
      "source": [
        "#2.  Write a program to create an abstract class Shape with a method area(). Derive classes Circle and Rectangle\n",
        "#    from it and implement the area() method in both.\n",
        "\n",
        "from abc import ABC, abstractmethod\n",
        "\n",
        "class shape(ABC):\n",
        "  @abstractmethod\n",
        "  def area(self):\n",
        "    pass\n",
        "\n",
        "class circle(shape):\n",
        "  def area(self,r):\n",
        "    return 3.14*r*r\n",
        "\n",
        "class rectangle(shape):\n",
        "  def area(self,l,b):\n",
        "    return l*b\n",
        "\n",
        "\n",
        "c = circle()\n",
        "print(c.area(5))\n",
        "\n",
        "r = rectangle()\n",
        "print(r.area(5,10))\n"
      ],
      "metadata": {
        "colab": {
          "base_uri": "https://localhost:8080/"
        },
        "id": "MUhamRVOOsrr",
        "outputId": "252abfc5-948b-41d2-c5be-2d91d220fab3"
      },
      "execution_count": 3,
      "outputs": [
        {
          "output_type": "stream",
          "name": "stdout",
          "text": [
            "78.5\n",
            "50\n"
          ]
        }
      ]
    },
    {
      "cell_type": "code",
      "source": [
        "#3. Implement a multi-level inheritance scenario where a class Vehicle has an attribute type. Derive a class Car\n",
        "#   and further derive a class ElectricCar that adds a battery attribute.\n",
        "\n",
        "\n",
        "class vehicle:\n",
        "  def __init__(self, type):\n",
        "    self.type = type\n",
        "\n",
        "class car(vehicle):\n",
        "  def __init__(self, type, brand):\n",
        "    super().__init__(type)\n",
        "    self.brand  = brand\n",
        "\n",
        "class electric_car(car):\n",
        "  def __init__(self, type, brand, battery):\n",
        "    super().__init__(type, brand)\n",
        "    self.battery=battery\n",
        "\n",
        "T = electric_car('Electric', 'Tesla', '100kWh')\n",
        "print(T.type)\n",
        "print(T.brand)\n",
        "print(T.battery)\n"
      ],
      "metadata": {
        "colab": {
          "base_uri": "https://localhost:8080/"
        },
        "id": "TajzPxNEk2tX",
        "outputId": "1a4422ea-a25e-4646-90be-630387b22948"
      },
      "execution_count": 10,
      "outputs": [
        {
          "output_type": "stream",
          "name": "stdout",
          "text": [
            "Electric\n",
            "Tesla\n",
            "100kWh\n"
          ]
        }
      ]
    },
    {
      "cell_type": "code",
      "source": [
        "#4. Demonstrate polymorphism by creating a base class Bird with a method fly(). Create two derived classes\n",
        "#   Sparrow and Penguin that override the fly() method.\n",
        "\n",
        "class bird:\n",
        "  def fly(self):\n",
        "    print('Birds can fly')\n",
        "\n",
        "class sparrow(bird):\n",
        "  def fly(self):\n",
        "    print('Sparrows can fly')\n",
        "\n",
        "class penguin(bird):\n",
        "  def fly(self):\n",
        "    print('Penguins cannot fly')\n",
        "\n",
        "s = sparrow()\n",
        "s.fly()\n",
        "\n",
        "p = penguin()\n",
        "p.fly()\n"
      ],
      "metadata": {
        "colab": {
          "base_uri": "https://localhost:8080/"
        },
        "id": "Xm76RWKtoIC-",
        "outputId": "622f0a77-c25e-4f26-e10c-2dedfb5e3b91"
      },
      "execution_count": 11,
      "outputs": [
        {
          "output_type": "stream",
          "name": "stdout",
          "text": [
            "Sparrows can fly\n",
            "Penguins cannot fly\n"
          ]
        }
      ]
    },
    {
      "cell_type": "code",
      "source": [
        "#5. Write a program to demonstrate encapsulation by creating a class BankAccount with private attributes\n",
        "#   balance and methods to deposit, withdraw, and check balance.\n",
        "\n",
        "class BankAccount:\n",
        "    def __init__(self, balance):\n",
        "        self.__balance = balance\n",
        "\n",
        "    def deposit(self, amount):\n",
        "        self.__balance += amount\n",
        "\n",
        "    def withdraw(self, amount):\n",
        "        if amount <= self.__balance:\n",
        "            self.__balance -= amount\n",
        "        else:\n",
        "            print(\"Insufficient balance\")\n",
        "\n",
        "    def check_balance(self):\n",
        "        return self.__balance\n",
        "\n",
        "\n",
        "acc = BankAccount(1000)\n",
        "acc.deposit(500)\n",
        "acc.withdraw(300)\n",
        "print(\"Balance:\", acc.check_balance())\n"
      ],
      "metadata": {
        "colab": {
          "base_uri": "https://localhost:8080/"
        },
        "id": "PdPIuVzspsMA",
        "outputId": "e586ffe4-5893-4e89-b2d0-ed7161e6bf3f"
      },
      "execution_count": 12,
      "outputs": [
        {
          "output_type": "stream",
          "name": "stdout",
          "text": [
            "Balance: 1200\n"
          ]
        }
      ]
    },
    {
      "cell_type": "code",
      "source": [
        "#6.  Demonstrate runtime polymorphism using a method play() in a base class Instrument. Derive classes Guitar\n",
        "#    and Piano that implement their own version of play().\n",
        "\n",
        "class Instrument:\n",
        "    def play(self):\n",
        "        print(\"Instrument is playing\")\n",
        "\n",
        "class Guitar(Instrument):\n",
        "    def play(self):\n",
        "        print(\"Guitar is playing\")\n",
        "\n",
        "class Piano(Instrument):\n",
        "    def play(self):\n",
        "        print(\"Piano is playing\")\n",
        "\n",
        "\n",
        "instruments = [Instrument(), Guitar(), Piano()]\n",
        "for inst in instruments:\n",
        "    inst.play()\n"
      ],
      "metadata": {
        "colab": {
          "base_uri": "https://localhost:8080/"
        },
        "id": "t2bdhb_Rp1Mk",
        "outputId": "aa857f9b-e5a7-4d6c-b16c-71b6ac775e8c"
      },
      "execution_count": 13,
      "outputs": [
        {
          "output_type": "stream",
          "name": "stdout",
          "text": [
            "Instrument is playing\n",
            "Guitar is playing\n",
            "Piano is playing\n"
          ]
        }
      ]
    },
    {
      "cell_type": "code",
      "source": [
        "#7. Create a class MathOperations with a class method add_numbers() to add two numbers and a static\n",
        "#     method subtract_numbers() to subtract two numbers.\n",
        "\n",
        "class MathOperations:\n",
        "    @classmethod\n",
        "    def add_numbers(cls, a, b):\n",
        "        return a + b\n",
        "\n",
        "    @staticmethod\n",
        "    def subtract_numbers(a, b):\n",
        "        return a - b\n",
        "\n",
        "\n",
        "print(\"Addition:\", MathOperations.add_numbers(10, 5))\n",
        "print(\"Subtraction:\", MathOperations.subtract_numbers(10, 5))\n"
      ],
      "metadata": {
        "colab": {
          "base_uri": "https://localhost:8080/"
        },
        "id": "FqX6ikIlp_cn",
        "outputId": "41571266-4d06-402b-bc1b-96cd3fb29314"
      },
      "execution_count": 14,
      "outputs": [
        {
          "output_type": "stream",
          "name": "stdout",
          "text": [
            "Addition: 15\n",
            "Subtraction: 5\n"
          ]
        }
      ]
    },
    {
      "cell_type": "code",
      "source": [
        "#8 .  Implement a class Person with a class method to count the total number of persons created.\n",
        "\n",
        "class Person:\n",
        "    count = 0\n",
        "\n",
        "    def __init__(self):\n",
        "        Person.count += 1\n",
        "\n",
        "    @classmethod\n",
        "    def get_count(cls):\n",
        "        return cls.count\n",
        "\n",
        "p1 = Person()\n",
        "p2 = Person()\n",
        "p3 = Person()\n",
        "print(\"Total Persons:\", Person.get_count())\n"
      ],
      "metadata": {
        "colab": {
          "base_uri": "https://localhost:8080/"
        },
        "id": "1jd8L21YqJdd",
        "outputId": "0fabb020-3aed-4266-d12c-989323b2b0af"
      },
      "execution_count": 15,
      "outputs": [
        {
          "output_type": "stream",
          "name": "stdout",
          "text": [
            "Total Persons: 3\n"
          ]
        }
      ]
    },
    {
      "cell_type": "code",
      "source": [
        "#9.  Write a class Fraction with attributes numerator and denominator. Override the str method to display the\n",
        "#    fraction as \"numerator/denominator\".\n",
        "\n",
        "class Fraction:\n",
        "    def __init__(self, numerator, denominator):\n",
        "        self.numerator = numerator\n",
        "        self.denominator = denominator\n",
        "\n",
        "    def __str__(self):\n",
        "        return f\"{self.numerator}/{self.denominator}\"\n",
        "\n",
        "\n",
        "\n",
        "frac = Fraction(3, 4)\n",
        "print(\"Fraction:\", frac)\n"
      ],
      "metadata": {
        "colab": {
          "base_uri": "https://localhost:8080/"
        },
        "id": "bayKUiQwqU7v",
        "outputId": "e764272a-584c-44ec-d922-78d07e03cee9"
      },
      "execution_count": 16,
      "outputs": [
        {
          "output_type": "stream",
          "name": "stdout",
          "text": [
            "Fraction: 3/4\n"
          ]
        }
      ]
    },
    {
      "cell_type": "code",
      "source": [
        "#10.  Demonstrate operator overloading by creating a class Vector and overriding the add method to add two vectors.\n",
        "\n",
        "class Vector:\n",
        "    def __init__(self, x, y):\n",
        "        self.x = x\n",
        "        self.y = y\n",
        "\n",
        "\n",
        "\n",
        "    def __add__(self, other):\n",
        "        return Vector(self.x + other.x, self.y + other.y)\n",
        "\n",
        "\n",
        "    def __str__(self):\n",
        "        return f\"Vector({self.x}, {self.y})\"\n",
        "\n",
        "\n",
        "\n",
        "\n",
        "v1 = Vector(1, 2)\n",
        "v2 = Vector(3, 4)\n",
        "print(\"Sum:\", v1 + v2)\n",
        "\n"
      ],
      "metadata": {
        "colab": {
          "base_uri": "https://localhost:8080/"
        },
        "id": "z_5s3agzqmf9",
        "outputId": "999b374e-27c6-4ab1-c207-93fa0287373a"
      },
      "execution_count": 18,
      "outputs": [
        {
          "output_type": "stream",
          "name": "stdout",
          "text": [
            "Sum: Vector(4, 6)\n"
          ]
        }
      ]
    },
    {
      "cell_type": "code",
      "source": [
        "#11.  Create a class Person with attributes name and age. Add a method greet() that prints \"Hello, my name is {name} and I am {age} years old.\"\n",
        "\n",
        "\n",
        "class Person:\n",
        "    def __init__(self, name, age):\n",
        "        self.name = name\n",
        "        self.age = age\n",
        "\n",
        "    def greet(self):\n",
        "        print(f\"Hello, my name is {self.name} and I am {self.age} years old.\")\n",
        "\n",
        "\n",
        "\n",
        "p = Person(\"Anas Raza Ansari\", 26)\n",
        "p.greet()\n",
        "\n"
      ],
      "metadata": {
        "colab": {
          "base_uri": "https://localhost:8080/"
        },
        "id": "sNGBlNcaqxe9",
        "outputId": "5375c433-a939-49c6-f2e1-3e96ce4032d2"
      },
      "execution_count": 20,
      "outputs": [
        {
          "output_type": "stream",
          "name": "stdout",
          "text": [
            "Hello, my name is Anas Raza Ansari and I am 26 years old.\n"
          ]
        }
      ]
    },
    {
      "cell_type": "code",
      "source": [
        "# Implement a class Student with attributes name and grades. Create a method average_grade() to compute the average of the grades.\n",
        "\n",
        "class Student:\n",
        "    def __init__(self, name, grades):\n",
        "        self.name = name\n",
        "        self.grades = grades\n",
        "\n",
        "    def average_grade(self):\n",
        "        return sum(self.grades) / len(self.grades)\n",
        "\n",
        "\n",
        "s = Student(\"Ajay\", [90, 80, 85])\n",
        "print(f\"{s.name}'s Average Grade:\", s.average_grade())\n",
        "\n"
      ],
      "metadata": {
        "colab": {
          "base_uri": "https://localhost:8080/"
        },
        "id": "OkY2drq-q8iy",
        "outputId": "d9d7d002-a806-4ade-e892-6e9f1e594d1d"
      },
      "execution_count": 22,
      "outputs": [
        {
          "output_type": "stream",
          "name": "stdout",
          "text": [
            "Ajay's Average Grade: 85.0\n"
          ]
        }
      ]
    },
    {
      "cell_type": "code",
      "source": [
        "#13. Create a class Rectangle with methods set_dimensions() to set the dimensions and area() to calculate the area.\n",
        "\n",
        "class Rectangle:\n",
        "    def set_dimensions(self, length, breadth):\n",
        "        self.length = length\n",
        "        self.breadth = breadth\n",
        "\n",
        "    def area(self):\n",
        "        return self.length * self.breadth\n",
        "\n",
        "\n",
        "rect = Rectangle()\n",
        "rect.set_dimensions(4, 5)\n",
        "print(\"Area of Rectangle:\", rect.area())\n",
        "\n"
      ],
      "metadata": {
        "colab": {
          "base_uri": "https://localhost:8080/"
        },
        "id": "SZ9LYe24rNwc",
        "outputId": "d5710348-424e-4cd2-fc7f-8dd4335dc829"
      },
      "execution_count": 23,
      "outputs": [
        {
          "output_type": "stream",
          "name": "stdout",
          "text": [
            "Area of Rectangle: 20\n"
          ]
        }
      ]
    },
    {
      "cell_type": "code",
      "source": [
        "#14.  Create a class Employee with a method calculate_salary() that computes the salary based on hours worked\n",
        "#     and hourly rate. Create a derived class Manager that adds a bonus to the salary.\n",
        "\n",
        "\n",
        "class Employee:\n",
        "    def __init__(self, hours, rate):\n",
        "        self.hours = hours\n",
        "        self.rate = rate\n",
        "\n",
        "    def calculate_salary(self):\n",
        "        return self.hours * self.rate\n",
        "\n",
        "class Manager(Employee):\n",
        "    def __init__(self, hours, rate, bonus):\n",
        "        super().__init__(hours, rate)\n",
        "        self.bonus = bonus\n",
        "\n",
        "    def calculate_salary(self):\n",
        "        return super().calculate_salary() + self.bonus\n",
        "\n",
        "\n",
        "\n",
        "emp = Employee(40, 20)\n",
        "mgr = Manager(40, 20, 500)\n",
        "print(\"Employee Salary:\", emp.calculate_salary())\n",
        "print(\"Manager Salary:\", mgr.calculate_salary())\n"
      ],
      "metadata": {
        "colab": {
          "base_uri": "https://localhost:8080/"
        },
        "id": "BfZ9WJZzrtjy",
        "outputId": "630c1a00-41a8-42c5-c055-16a8039601fe"
      },
      "execution_count": 24,
      "outputs": [
        {
          "output_type": "stream",
          "name": "stdout",
          "text": [
            "Employee Salary: 800\n",
            "Manager Salary: 1300\n"
          ]
        }
      ]
    },
    {
      "cell_type": "code",
      "source": [
        "#15. Create a class Product with attributes name, price, and quantity. Implement a method total_price() that\n",
        "#         calculates the total price of the product.\n",
        "\n",
        "\n",
        "class Product:\n",
        "    def __init__(self, name, price, quantity):\n",
        "        self.name = name\n",
        "        self.price = price\n",
        "        self.quantity = quantity\n",
        "\n",
        "    def total_price(self):\n",
        "        return self.price * self.quantity\n",
        "\n",
        "\n",
        "\n",
        "prod = Product(\"Laptop\", 1000, 3)\n",
        "print(f\"Total price of {prod.name}s:\", prod.total_price())\n"
      ],
      "metadata": {
        "colab": {
          "base_uri": "https://localhost:8080/"
        },
        "id": "nQy3Wlrsr6wB",
        "outputId": "7aace7f9-41f3-4ab3-817e-037c007097f6"
      },
      "execution_count": 25,
      "outputs": [
        {
          "output_type": "stream",
          "name": "stdout",
          "text": [
            "Total price of Laptops: 3000\n"
          ]
        }
      ]
    },
    {
      "cell_type": "code",
      "source": [
        "#16.  Create a class Animal with an abstract method sound(). Create two derived classes Cow and Sheep that implement the sound() method.\n",
        "\n",
        "\n",
        "from abc import ABC, abstractmethod\n",
        "\n",
        "class Animal(ABC):\n",
        "    @abstractmethod\n",
        "    def sound(self):\n",
        "        pass\n",
        "\n",
        "class Cow(Animal):\n",
        "    def sound(self):\n",
        "        print(\"Moo\")\n",
        "\n",
        "class Sheep(Animal):\n",
        "    def sound(self):\n",
        "        print(\"Baa\")\n",
        "\n",
        "\n",
        "cow = Cow()\n",
        "sheep = Sheep()\n",
        "cow.sound()\n",
        "sheep.sound()\n",
        "\n"
      ],
      "metadata": {
        "colab": {
          "base_uri": "https://localhost:8080/"
        },
        "id": "EVRf1nOwsEjI",
        "outputId": "26ffa1cb-21a4-4e6e-f7fe-02da705138d9"
      },
      "execution_count": 26,
      "outputs": [
        {
          "output_type": "stream",
          "name": "stdout",
          "text": [
            "Moo\n",
            "Baa\n"
          ]
        }
      ]
    },
    {
      "cell_type": "code",
      "source": [
        "#17. Create a class Book with attributes title, author, and year_published. Add a method get_book_info() that\n",
        "#     returns a formatted string with the book's details.\n",
        "\n",
        "class Book:\n",
        "    def __init__(self, title, author, year_published):\n",
        "        self.title = title\n",
        "        self.author = author\n",
        "        self.year_published = year_published\n",
        "\n",
        "    def get_book_info(self):\n",
        "        return f\"'{self.title}' by {self.author} ({self.year_published})\"\n",
        "\n",
        "\n",
        "\n",
        "\n",
        "book = Book(\"1984\", \"George Orwell\", 1949)\n",
        "print(book.get_book_info())\n",
        "\n"
      ],
      "metadata": {
        "colab": {
          "base_uri": "https://localhost:8080/"
        },
        "id": "3s8MbFXQsTCw",
        "outputId": "b9052745-9b94-4018-f2b7-2320b7e4d464"
      },
      "execution_count": 27,
      "outputs": [
        {
          "output_type": "stream",
          "name": "stdout",
          "text": [
            "'1984' by George Orwell (1949)\n"
          ]
        }
      ]
    },
    {
      "cell_type": "code",
      "source": [
        "#18.  Create a class House with attributes address and price. Create a derived class Mansion that adds an attribute number_of_rooms.\n",
        "\n",
        "class House:\n",
        "    def __init__(self, address, price):\n",
        "        self.address = address\n",
        "        self.price = price\n",
        "\n",
        "class Mansion(House):\n",
        "    def __init__(self, address, price, number_of_rooms):\n",
        "        super().__init__(address, price)\n",
        "        self.number_of_rooms = number_of_rooms\n",
        "\n",
        "\n",
        "\n",
        "\n",
        "m = Mansion(\"123 Okhla Vihar, New Delhi\", 1000000, 10)\n",
        "print(f\"Address: {m.address}, Price: {m.price}, Rooms: {m.number_of_rooms}\")\n",
        "\n"
      ],
      "metadata": {
        "colab": {
          "base_uri": "https://localhost:8080/"
        },
        "id": "_y5tedOUspbW",
        "outputId": "655a5505-2fc7-4c18-c22b-b8bd57bb63d7"
      },
      "execution_count": 30,
      "outputs": [
        {
          "output_type": "stream",
          "name": "stdout",
          "text": [
            "Address: 123 Okhla Vihar, New Delhi, Price: 1000000, Rooms: 10\n"
          ]
        }
      ]
    }
  ]
}